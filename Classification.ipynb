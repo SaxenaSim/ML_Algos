{
 "cells": [
  {
   "cell_type": "code",
   "execution_count": 2,
   "id": "fecd786b-a009-462a-ac2a-3a2ae322cc56",
   "metadata": {},
   "outputs": [],
   "source": [
    "import pyspark"
   ]
  },
  {
   "cell_type": "code",
   "execution_count": 3,
   "id": "f690c88d-99fe-4720-bc59-b8856c2cfba3",
   "metadata": {},
   "outputs": [],
   "source": [
    "from pyspark.sql import SparkSession"
   ]
  },
  {
   "cell_type": "code",
   "execution_count": 4,
   "id": "886bc2a9-8b6d-4c8b-9727-9668355c8d63",
   "metadata": {},
   "outputs": [
    {
     "name": "stderr",
     "output_type": "stream",
     "text": [
      "24/04/18 20:53:04 WARN Utils: Your hostname, PF0P0YDX resolves to a loopback address: 127.0.1.1; using 192.168.1.23 instead (on interface wlp5s0)\n",
      "24/04/18 20:53:04 WARN Utils: Set SPARK_LOCAL_IP if you need to bind to another address\n",
      "Setting default log level to \"WARN\".\n",
      "To adjust logging level use sc.setLogLevel(newLevel). For SparkR, use setLogLevel(newLevel).\n",
      "24/04/18 20:53:12 WARN NativeCodeLoader: Unable to load native-hadoop library for your platform... using builtin-java classes where applicable\n",
      "24/04/18 20:53:16 WARN Utils: Service 'SparkUI' could not bind on port 4040. Attempting port 4041.\n",
      "24/04/18 20:53:16 WARN Utils: Service 'SparkUI' could not bind on port 4041. Attempting port 4042.\n"
     ]
    }
   ],
   "source": [
    "spark = SparkSession.builder.appName('Algos Hands-on').getOrCreate()"
   ]
  },
  {
   "cell_type": "code",
   "execution_count": 5,
   "id": "806da445-68bf-4ac6-bc97-f755b4044e28",
   "metadata": {},
   "outputs": [
    {
     "name": "stderr",
     "output_type": "stream",
     "text": [
      "                                                                                \r"
     ]
    }
   ],
   "source": [
    "df = spark.read.csv('file:///home/user1/Desktop/Algos Hands-on/data.csv',header='True',inferSchema='True')"
   ]
  },
  {
   "cell_type": "code",
   "execution_count": 6,
   "id": "d54b71f8-a4bd-4a73-87bd-ff123978e2cf",
   "metadata": {},
   "outputs": [
    {
     "name": "stdout",
     "output_type": "stream",
     "text": [
      "+------------+-----------+------------+-----------+-------+\n",
      "|sepal_length|sepal_width|petal_length|petal_width|species|\n",
      "+------------+-----------+------------+-----------+-------+\n",
      "|         5.1|        3.5|         1.4|        0.2| setosa|\n",
      "|         4.9|        3.0|         1.4|        0.2| setosa|\n",
      "|         4.7|        3.2|         1.3|        0.2| setosa|\n",
      "|         4.6|        3.1|         1.5|        0.2| setosa|\n",
      "|         5.0|        3.6|         1.4|        0.2| setosa|\n",
      "|         5.4|        3.9|         1.7|        0.4| setosa|\n",
      "|         4.6|        3.4|         1.4|        0.3| setosa|\n",
      "|         5.0|        3.4|         1.5|        0.2| setosa|\n",
      "|         4.4|        2.9|         1.4|        0.2| setosa|\n",
      "|         4.9|        3.1|         1.5|        0.1| setosa|\n",
      "|         5.4|        3.7|         1.5|        0.2| setosa|\n",
      "|         4.8|        3.4|         1.6|        0.2| setosa|\n",
      "|         4.8|        3.0|         1.4|        0.1| setosa|\n",
      "|         4.3|        3.0|         1.1|        0.1| setosa|\n",
      "|         5.8|        4.0|         1.2|        0.2| setosa|\n",
      "|         5.7|        4.4|         1.5|        0.4| setosa|\n",
      "|         5.4|        3.9|         1.3|        0.4| setosa|\n",
      "|         5.1|        3.5|         1.4|        0.3| setosa|\n",
      "|         5.7|        3.8|         1.7|        0.3| setosa|\n",
      "|         5.1|        3.8|         1.5|        0.3| setosa|\n",
      "+------------+-----------+------------+-----------+-------+\n",
      "only showing top 20 rows\n",
      "\n"
     ]
    }
   ],
   "source": [
    "df.show()"
   ]
  },
  {
   "cell_type": "code",
   "execution_count": 7,
   "id": "fd1dab8c-a4dc-4e16-9c9f-af63ae7d3abb",
   "metadata": {},
   "outputs": [
    {
     "name": "stderr",
     "output_type": "stream",
     "text": [
      "                                                                                \r"
     ]
    },
    {
     "name": "stdout",
     "output_type": "stream",
     "text": [
      "+------------+-----------+------------+-----------+-------+---------------+\n",
      "|sepal_length|sepal_width|petal_length|petal_width|species|species_numeric|\n",
      "+------------+-----------+------------+-----------+-------+---------------+\n",
      "|         5.1|        3.5|         1.4|        0.2| setosa|            0.0|\n",
      "|         4.9|        3.0|         1.4|        0.2| setosa|            0.0|\n",
      "|         4.7|        3.2|         1.3|        0.2| setosa|            0.0|\n",
      "|         4.6|        3.1|         1.5|        0.2| setosa|            0.0|\n",
      "|         5.0|        3.6|         1.4|        0.2| setosa|            0.0|\n",
      "|         5.4|        3.9|         1.7|        0.4| setosa|            0.0|\n",
      "|         4.6|        3.4|         1.4|        0.3| setosa|            0.0|\n",
      "|         5.0|        3.4|         1.5|        0.2| setosa|            0.0|\n",
      "|         4.4|        2.9|         1.4|        0.2| setosa|            0.0|\n",
      "|         4.9|        3.1|         1.5|        0.1| setosa|            0.0|\n",
      "|         5.4|        3.7|         1.5|        0.2| setosa|            0.0|\n",
      "|         4.8|        3.4|         1.6|        0.2| setosa|            0.0|\n",
      "|         4.8|        3.0|         1.4|        0.1| setosa|            0.0|\n",
      "|         4.3|        3.0|         1.1|        0.1| setosa|            0.0|\n",
      "|         5.8|        4.0|         1.2|        0.2| setosa|            0.0|\n",
      "|         5.7|        4.4|         1.5|        0.4| setosa|            0.0|\n",
      "|         5.4|        3.9|         1.3|        0.4| setosa|            0.0|\n",
      "|         5.1|        3.5|         1.4|        0.3| setosa|            0.0|\n",
      "|         5.7|        3.8|         1.7|        0.3| setosa|            0.0|\n",
      "|         5.1|        3.8|         1.5|        0.3| setosa|            0.0|\n",
      "+------------+-----------+------------+-----------+-------+---------------+\n",
      "only showing top 20 rows\n",
      "\n"
     ]
    }
   ],
   "source": [
    "from pyspark.ml.feature import StringIndexer\n",
    "\n",
    "indexer = StringIndexer(inputCol='species',outputCol='species_numeric')\n",
    "indexed_df = indexer.fit(df).transform(df)\n",
    "indexed_df.show()"
   ]
  },
  {
   "cell_type": "code",
   "execution_count": 8,
   "id": "0e7fdeb1-380b-4625-8354-cd3723254ad7",
   "metadata": {},
   "outputs": [
    {
     "name": "stderr",
     "output_type": "stream",
     "text": [
      "                                                                                \r"
     ]
    },
    {
     "name": "stdout",
     "output_type": "stream",
     "text": [
      "+------------+-----------+------------+-----------+-------+---------------+-----------------+\n",
      "|sepal_length|sepal_width|petal_length|petal_width|species|species_numeric|   feature_vector|\n",
      "+------------+-----------+------------+-----------+-------+---------------+-----------------+\n",
      "|         5.1|        3.5|         1.4|        0.2| setosa|            0.0|[5.1,3.5,1.4,0.2]|\n",
      "|         4.9|        3.0|         1.4|        0.2| setosa|            0.0|[4.9,3.0,1.4,0.2]|\n",
      "|         4.7|        3.2|         1.3|        0.2| setosa|            0.0|[4.7,3.2,1.3,0.2]|\n",
      "|         4.6|        3.1|         1.5|        0.2| setosa|            0.0|[4.6,3.1,1.5,0.2]|\n",
      "|         5.0|        3.6|         1.4|        0.2| setosa|            0.0|[5.0,3.6,1.4,0.2]|\n",
      "|         5.4|        3.9|         1.7|        0.4| setosa|            0.0|[5.4,3.9,1.7,0.4]|\n",
      "|         4.6|        3.4|         1.4|        0.3| setosa|            0.0|[4.6,3.4,1.4,0.3]|\n",
      "|         5.0|        3.4|         1.5|        0.2| setosa|            0.0|[5.0,3.4,1.5,0.2]|\n",
      "|         4.4|        2.9|         1.4|        0.2| setosa|            0.0|[4.4,2.9,1.4,0.2]|\n",
      "|         4.9|        3.1|         1.5|        0.1| setosa|            0.0|[4.9,3.1,1.5,0.1]|\n",
      "|         5.4|        3.7|         1.5|        0.2| setosa|            0.0|[5.4,3.7,1.5,0.2]|\n",
      "|         4.8|        3.4|         1.6|        0.2| setosa|            0.0|[4.8,3.4,1.6,0.2]|\n",
      "|         4.8|        3.0|         1.4|        0.1| setosa|            0.0|[4.8,3.0,1.4,0.1]|\n",
      "|         4.3|        3.0|         1.1|        0.1| setosa|            0.0|[4.3,3.0,1.1,0.1]|\n",
      "|         5.8|        4.0|         1.2|        0.2| setosa|            0.0|[5.8,4.0,1.2,0.2]|\n",
      "|         5.7|        4.4|         1.5|        0.4| setosa|            0.0|[5.7,4.4,1.5,0.4]|\n",
      "|         5.4|        3.9|         1.3|        0.4| setosa|            0.0|[5.4,3.9,1.3,0.4]|\n",
      "|         5.1|        3.5|         1.4|        0.3| setosa|            0.0|[5.1,3.5,1.4,0.3]|\n",
      "|         5.7|        3.8|         1.7|        0.3| setosa|            0.0|[5.7,3.8,1.7,0.3]|\n",
      "|         5.1|        3.8|         1.5|        0.3| setosa|            0.0|[5.1,3.8,1.5,0.3]|\n",
      "+------------+-----------+------------+-----------+-------+---------------+-----------------+\n",
      "only showing top 20 rows\n",
      "\n"
     ]
    }
   ],
   "source": [
    "from pyspark.ml.feature import VectorAssembler\n",
    "\n",
    "features = ['sepal_length','sepal_width','petal_length','petal_width']\n",
    "assembler = VectorAssembler(inputCols=features,outputCol='feature_vector')\n",
    "transformed_df = assembler.transform(indexed_df)\n",
    "transformed_df.show()"
   ]
  },
  {
   "cell_type": "code",
   "execution_count": 9,
   "id": "8a97bcf3-6b28-407c-b902-6e7ea566149f",
   "metadata": {},
   "outputs": [
    {
     "name": "stderr",
     "output_type": "stream",
     "text": [
      "                                                                                \r"
     ]
    },
    {
     "name": "stdout",
     "output_type": "stream",
     "text": [
      "+------------+-----------+------------+-----------+----------+---------------+-----------------+--------------+-------------+----------+\n",
      "|sepal_length|sepal_width|petal_length|petal_width|   species|species_numeric|   feature_vector| rawPrediction|  probability|prediction|\n",
      "+------------+-----------+------------+-----------+----------+---------------+-----------------+--------------+-------------+----------+\n",
      "|         4.6|        3.2|         1.4|        0.2|    setosa|            0.0|[4.6,3.2,1.4,0.2]|[32.0,0.0,0.0]|[1.0,0.0,0.0]|       0.0|\n",
      "|         4.6|        3.4|         1.4|        0.3|    setosa|            0.0|[4.6,3.4,1.4,0.3]|[32.0,0.0,0.0]|[1.0,0.0,0.0]|       0.0|\n",
      "|         4.7|        3.2|         1.6|        0.2|    setosa|            0.0|[4.7,3.2,1.6,0.2]|[32.0,0.0,0.0]|[1.0,0.0,0.0]|       0.0|\n",
      "|         4.8|        3.0|         1.4|        0.1|    setosa|            0.0|[4.8,3.0,1.4,0.1]|[32.0,0.0,0.0]|[1.0,0.0,0.0]|       0.0|\n",
      "|         4.8|        3.0|         1.4|        0.3|    setosa|            0.0|[4.8,3.0,1.4,0.3]|[32.0,0.0,0.0]|[1.0,0.0,0.0]|       0.0|\n",
      "|         4.9|        3.0|         1.4|        0.2|    setosa|            0.0|[4.9,3.0,1.4,0.2]|[32.0,0.0,0.0]|[1.0,0.0,0.0]|       0.0|\n",
      "|         4.9|        3.1|         1.5|        0.1|    setosa|            0.0|[4.9,3.1,1.5,0.1]|[32.0,0.0,0.0]|[1.0,0.0,0.0]|       0.0|\n",
      "|         5.0|        2.3|         3.3|        1.0|versicolor|            1.0|[5.0,2.3,3.3,1.0]|[0.0,32.0,0.0]|[0.0,1.0,0.0]|       1.0|\n",
      "|         5.0|        3.4|         1.6|        0.4|    setosa|            0.0|[5.0,3.4,1.6,0.4]|[32.0,0.0,0.0]|[1.0,0.0,0.0]|       0.0|\n",
      "|         5.0|        3.5|         1.3|        0.3|    setosa|            0.0|[5.0,3.5,1.3,0.3]|[32.0,0.0,0.0]|[1.0,0.0,0.0]|       0.0|\n",
      "|         5.1|        3.3|         1.7|        0.5|    setosa|            0.0|[5.1,3.3,1.7,0.5]|[32.0,0.0,0.0]|[1.0,0.0,0.0]|       0.0|\n",
      "|         5.1|        3.8|         1.5|        0.3|    setosa|            0.0|[5.1,3.8,1.5,0.3]|[32.0,0.0,0.0]|[1.0,0.0,0.0]|       0.0|\n",
      "|         5.1|        3.8|         1.9|        0.4|    setosa|            0.0|[5.1,3.8,1.9,0.4]|[32.0,0.0,0.0]|[1.0,0.0,0.0]|       0.0|\n",
      "|         5.2|        2.7|         3.9|        1.4|versicolor|            1.0|[5.2,2.7,3.9,1.4]|[0.0,32.0,0.0]|[0.0,1.0,0.0]|       1.0|\n",
      "|         5.3|        3.7|         1.5|        0.2|    setosa|            0.0|[5.3,3.7,1.5,0.2]|[32.0,0.0,0.0]|[1.0,0.0,0.0]|       0.0|\n",
      "|         5.4|        3.0|         4.5|        1.5|versicolor|            1.0|[5.4,3.0,4.5,1.5]|[0.0,32.0,0.0]|[0.0,1.0,0.0]|       1.0|\n",
      "|         5.4|        3.4|         1.7|        0.2|    setosa|            0.0|[5.4,3.4,1.7,0.2]|[32.0,0.0,0.0]|[1.0,0.0,0.0]|       0.0|\n",
      "|         5.4|        3.7|         1.5|        0.2|    setosa|            0.0|[5.4,3.7,1.5,0.2]|[32.0,0.0,0.0]|[1.0,0.0,0.0]|       0.0|\n",
      "|         5.4|        3.9|         1.7|        0.4|    setosa|            0.0|[5.4,3.9,1.7,0.4]|[32.0,0.0,0.0]|[1.0,0.0,0.0]|       0.0|\n",
      "|         5.5|        2.3|         4.0|        1.3|versicolor|            1.0|[5.5,2.3,4.0,1.3]|[0.0,32.0,0.0]|[0.0,1.0,0.0]|       1.0|\n",
      "+------------+-----------+------------+-----------+----------+---------------+-----------------+--------------+-------------+----------+\n",
      "only showing top 20 rows\n",
      "\n"
     ]
    }
   ],
   "source": [
    "### Decision Tree Classifier\n",
    "\n",
    "from pyspark.ml.classification import DecisionTreeClassifier\n",
    "\n",
    "train_data , test_data = transformed_df.randomSplit([0.7,0.3])\n",
    "dt = DecisionTreeClassifier(labelCol='species_numeric',featuresCol='feature_vector')\n",
    "model = dt.fit(train_data)\n",
    "predictions = model.transform(test_data)\n",
    "predictions.show()"
   ]
  },
  {
   "cell_type": "code",
   "execution_count": 10,
   "id": "88d2fe5a-ff3c-4acb-8658-bc5fc2a59ec6",
   "metadata": {},
   "outputs": [
    {
     "name": "stderr",
     "output_type": "stream",
     "text": [
      "[Stage 23:>                                                         (0 + 1) / 1]\r"
     ]
    },
    {
     "name": "stdout",
     "output_type": "stream",
     "text": [
      "0.9807692307692307\n"
     ]
    },
    {
     "name": "stderr",
     "output_type": "stream",
     "text": [
      "                                                                                \r"
     ]
    }
   ],
   "source": [
    "from pyspark.ml.evaluation import MulticlassClassificationEvaluator\n",
    "\n",
    "evaluator = MulticlassClassificationEvaluator(labelCol='species_numeric',predictionCol='prediction',metricName='accuracy')\n",
    "accuracy = evaluator.evaluate(predictions)\n",
    "print(accuracy)"
   ]
  },
  {
   "cell_type": "code",
   "execution_count": 11,
   "id": "edb6405b-7457-49f3-9407-f9235c2e6de7",
   "metadata": {},
   "outputs": [
    {
     "name": "stdout",
     "output_type": "stream",
     "text": [
      "+------------+-----------+------------+-----------+-------+---------------+---------+\n",
      "|sepal_length|sepal_width|petal_length|petal_width|species|species_numeric| features|\n",
      "+------------+-----------+------------+-----------+-------+---------------+---------+\n",
      "|         5.1|        3.5|         1.4|        0.2| setosa|            0.0|[5.1,1.4]|\n",
      "|         4.9|        3.0|         1.4|        0.2| setosa|            0.0|[4.9,1.4]|\n",
      "|         4.7|        3.2|         1.3|        0.2| setosa|            0.0|[4.7,1.3]|\n",
      "|         4.6|        3.1|         1.5|        0.2| setosa|            0.0|[4.6,1.5]|\n",
      "|         5.0|        3.6|         1.4|        0.2| setosa|            0.0|[5.0,1.4]|\n",
      "|         5.4|        3.9|         1.7|        0.4| setosa|            0.0|[5.4,1.7]|\n",
      "|         4.6|        3.4|         1.4|        0.3| setosa|            0.0|[4.6,1.4]|\n",
      "|         5.0|        3.4|         1.5|        0.2| setosa|            0.0|[5.0,1.5]|\n",
      "|         4.4|        2.9|         1.4|        0.2| setosa|            0.0|[4.4,1.4]|\n",
      "|         4.9|        3.1|         1.5|        0.1| setosa|            0.0|[4.9,1.5]|\n",
      "|         5.4|        3.7|         1.5|        0.2| setosa|            0.0|[5.4,1.5]|\n",
      "|         4.8|        3.4|         1.6|        0.2| setosa|            0.0|[4.8,1.6]|\n",
      "|         4.8|        3.0|         1.4|        0.1| setosa|            0.0|[4.8,1.4]|\n",
      "|         4.3|        3.0|         1.1|        0.1| setosa|            0.0|[4.3,1.1]|\n",
      "|         5.8|        4.0|         1.2|        0.2| setosa|            0.0|[5.8,1.2]|\n",
      "|         5.7|        4.4|         1.5|        0.4| setosa|            0.0|[5.7,1.5]|\n",
      "|         5.4|        3.9|         1.3|        0.4| setosa|            0.0|[5.4,1.3]|\n",
      "|         5.1|        3.5|         1.4|        0.3| setosa|            0.0|[5.1,1.4]|\n",
      "|         5.7|        3.8|         1.7|        0.3| setosa|            0.0|[5.7,1.7]|\n",
      "|         5.1|        3.8|         1.5|        0.3| setosa|            0.0|[5.1,1.5]|\n",
      "+------------+-----------+------------+-----------+-------+---------------+---------+\n",
      "only showing top 20 rows\n",
      "\n"
     ]
    }
   ],
   "source": [
    "selected_cols = ['sepal_length','petal_length']\n",
    "assembler = VectorAssembler(inputCols=selected_cols,outputCol='features')\n",
    "df1 = assembler.transform(indexed_df)\n",
    "df1.show()"
   ]
  },
  {
   "cell_type": "code",
   "execution_count": 12,
   "id": "e634a972-426b-4f56-8286-756168d46e70",
   "metadata": {},
   "outputs": [
    {
     "name": "stdout",
     "output_type": "stream",
     "text": [
      "+------------+-----------+------------+-----------+-------+---------------+---------+--------------------+\n",
      "|sepal_length|sepal_width|petal_length|petal_width|species|species_numeric| features|     scaled_features|\n",
      "+------------+-----------+------------+-----------+-------+---------------+---------+--------------------+\n",
      "|         5.1|        3.5|         1.4|        0.2| setosa|            0.0|[5.1,1.4]|[6.15892840883878...|\n",
      "|         4.9|        3.0|         1.4|        0.2| setosa|            0.0|[4.9,1.4]|[5.9174018045706,...|\n",
      "|         4.7|        3.2|         1.3|        0.2| setosa|            0.0|[4.7,1.3]|[5.67587520030241...|\n",
      "|         4.6|        3.1|         1.5|        0.2| setosa|            0.0|[4.6,1.5]|[5.55511189816831...|\n",
      "|         5.0|        3.6|         1.4|        0.2| setosa|            0.0|[5.0,1.4]|[6.03816510670469...|\n",
      "|         5.4|        3.9|         1.7|        0.4| setosa|            0.0|[5.4,1.7]|[6.52121831524107...|\n",
      "|         4.6|        3.4|         1.4|        0.3| setosa|            0.0|[4.6,1.4]|[5.55511189816831...|\n",
      "|         5.0|        3.4|         1.5|        0.2| setosa|            0.0|[5.0,1.5]|[6.03816510670469...|\n",
      "|         4.4|        2.9|         1.4|        0.2| setosa|            0.0|[4.4,1.4]|[5.31358529390013...|\n",
      "|         4.9|        3.1|         1.5|        0.1| setosa|            0.0|[4.9,1.5]|[5.9174018045706,...|\n",
      "|         5.4|        3.7|         1.5|        0.2| setosa|            0.0|[5.4,1.5]|[6.52121831524107...|\n",
      "|         4.8|        3.4|         1.6|        0.2| setosa|            0.0|[4.8,1.6]|[5.79663850243650...|\n",
      "|         4.8|        3.0|         1.4|        0.1| setosa|            0.0|[4.8,1.4]|[5.79663850243650...|\n",
      "|         4.3|        3.0|         1.1|        0.1| setosa|            0.0|[4.3,1.1]|[5.19282199176603...|\n",
      "|         5.8|        4.0|         1.2|        0.2| setosa|            0.0|[5.8,1.2]|[7.00427152377744...|\n",
      "|         5.7|        4.4|         1.5|        0.4| setosa|            0.0|[5.7,1.5]|[6.88350822164335...|\n",
      "|         5.4|        3.9|         1.3|        0.4| setosa|            0.0|[5.4,1.3]|[6.52121831524107...|\n",
      "|         5.1|        3.5|         1.4|        0.3| setosa|            0.0|[5.1,1.4]|[6.15892840883878...|\n",
      "|         5.7|        3.8|         1.7|        0.3| setosa|            0.0|[5.7,1.7]|[6.88350822164335...|\n",
      "|         5.1|        3.8|         1.5|        0.3| setosa|            0.0|[5.1,1.5]|[6.15892840883878...|\n",
      "+------------+-----------+------------+-----------+-------+---------------+---------+--------------------+\n",
      "only showing top 20 rows\n",
      "\n"
     ]
    }
   ],
   "source": [
    "### PCA (Principle Component Analysis)\n",
    "\n",
    "from pyspark.ml.feature import StandardScaler\n",
    "\n",
    "scaler = StandardScaler(inputCol='features',outputCol='scaled_features')\n",
    "scaler_model = scaler.fit(df1)\n",
    "df_1 = scaler_model.transform(df1)\n",
    "df_1.show()"
   ]
  },
  {
   "cell_type": "code",
   "execution_count": 13,
   "id": "5e656188-5a93-47f3-bd7c-0f72c1300d85",
   "metadata": {},
   "outputs": [
    {
     "name": "stderr",
     "output_type": "stream",
     "text": [
      "24/04/18 20:54:17 WARN InstanceBuilder: Failed to load implementation from:dev.ludovic.netlib.blas.JNIBLAS\n",
      "24/04/18 20:54:18 WARN InstanceBuilder: Failed to load implementation from:dev.ludovic.netlib.lapack.JNILAPACK\n"
     ]
    },
    {
     "name": "stdout",
     "output_type": "stream",
     "text": [
      "+------------+-----------+------------+-----------+-------+---------------+---------+---------------------------------------+----------------------------------------+\n",
      "|sepal_length|sepal_width|petal_length|petal_width|species|species_numeric|features |scaled_features                        |pcaFeatures                             |\n",
      "+------------+-----------+------------+-----------+-------+---------------+---------+---------------------------------------+----------------------------------------+\n",
      "|5.1         |3.5        |1.4         |0.2        |setosa |0.0            |[5.1,1.4]|[6.158928408838787,0.7934616853039358] |[-4.916082181022499,-3.7939579044422618]|\n",
      "|4.9         |3.0        |1.4         |0.2        |setosa |0.0            |[4.9,1.4]|[5.9174018045706,0.7934616853039358]   |[-4.745297081307504,-3.623172804727267] |\n",
      "|4.7         |3.2        |1.3         |0.2        |setosa |0.0            |[4.7,1.3]|[5.675875200302412,0.7367858506393691] |[-4.534436114571786,-3.4924635720329937]|\n",
      "|4.6         |3.1        |1.5         |0.2        |setosa |0.0            |[4.6,1.5]|[5.555111898168318,0.8501375199685027] |[-4.529195298755734,-3.32691928813405]  |\n",
      "|5.0         |3.6        |1.4         |0.2        |setosa |0.0            |[5.0,1.4]|[6.038165106704694,0.7934616853039358] |[-4.830689631165002,-3.7085653545847648]|\n",
      "|5.4         |3.9        |1.7         |0.4        |setosa |0.0            |[5.4,1.7]|[6.52121831524107,0.9634891892976364]  |[-5.292487431657161,-3.929907952952587] |\n",
      "|4.6         |3.4        |1.4         |0.3        |setosa |0.0            |[4.6,1.4]|[5.555111898168318,0.7934616853039358] |[-4.489119431735011,-3.366995155154773] |\n",
      "|5.0         |3.4        |1.5         |0.2        |setosa |0.0            |[5.0,1.5]|[6.038165106704694,0.8501375199685027] |[-4.870765498185724,-3.6684894875640417]|\n",
      "|4.4         |2.9        |1.4         |0.2        |setosa |0.0            |[4.4,1.4]|[5.313585293900131,0.7934616853039358] |[-4.318334332020015,-3.1962100554397783]|\n",
      "|4.9         |3.1        |1.5         |0.1        |setosa |0.0            |[4.9,1.5]|[5.9174018045706,0.8501375199685027]   |[-4.785372948328226,-3.583096937706544] |\n",
      "|5.4         |3.7        |1.5         |0.2        |setosa |0.0            |[5.4,1.5]|[6.52121831524107,0.8501375199685027]  |[-5.212335697615715,-4.010059686994032] |\n",
      "|4.8         |3.4        |1.6         |0.2        |setosa |0.0            |[4.8,1.6]|[5.7966385024365055,0.9068133546330697]|[-4.740056265491452,-3.4576285208283224]|\n",
      "|4.8         |3.0        |1.4         |0.1        |setosa |0.0            |[4.8,1.4]|[5.7966385024365055,0.7934616853039358]|[-4.659904531450006,-3.537780254869768] |\n",
      "|4.3         |3.0        |1.1         |0.1        |setosa |0.0            |[4.3,1.1]|[5.192821991766037,0.6234341813102354] |[-4.112714181100349,-3.2310451066444488]|\n",
      "|5.8         |4.0        |1.2         |0.2        |setosa |0.0            |[5.8,1.2]|[7.004271523777445,0.6801100159748021] |[-5.433678295983537,-4.471857487486191] |\n",
      "|5.7         |4.4        |1.5         |0.4        |setosa |0.0            |[5.7,1.5]|[6.883508221643351,0.8501375199685027] |[-5.468513347188208,-4.266237336566524] |\n",
      "|5.4         |3.9        |1.3         |0.4        |setosa |0.0            |[5.4,1.3]|[6.52121831524107,0.7367858506393691]  |[-5.13218396357427,-4.0902114210354785] |\n",
      "|5.1         |3.5        |1.4         |0.3        |setosa |0.0            |[5.1,1.4]|[6.158928408838787,0.7934616853039358] |[-4.916082181022499,-3.7939579044422618]|\n",
      "|5.7         |3.8        |1.7         |0.3        |setosa |0.0            |[5.7,1.7]|[6.883508221643351,0.9634891892976364] |[-5.548665081229654,-4.186085602525079] |\n",
      "|5.1         |3.8        |1.5         |0.3        |setosa |0.0            |[5.1,1.5]|[6.158928408838787,0.8501375199685027] |[-4.956158048043221,-3.7538820374215387]|\n",
      "+------------+-----------+------------+-----------+-------+---------------+---------+---------------------------------------+----------------------------------------+\n",
      "only showing top 20 rows\n",
      "\n"
     ]
    }
   ],
   "source": [
    "from pyspark.ml.feature import PCA\n",
    "\n",
    "pca = PCA(k=2,inputCol='scaled_features',outputCol='pcaFeatures')\n",
    "model = pca.fit(df_1)\n",
    "df_pca = model.transform(df_1)\n",
    "df_pca.show(truncate=False)"
   ]
  },
  {
   "cell_type": "code",
   "execution_count": 14,
   "id": "06654a8d-8b28-42db-8918-c01611d78d50",
   "metadata": {},
   "outputs": [
    {
     "name": "stdout",
     "output_type": "stream",
     "text": [
      "+------------+-----------+------------+-----------+-------+-----------------+\n",
      "|sepal_length|sepal_width|petal_length|petal_width|species|         features|\n",
      "+------------+-----------+------------+-----------+-------+-----------------+\n",
      "|         5.1|        3.5|         1.4|        0.2| setosa|[5.1,3.5,1.4,0.2]|\n",
      "|         4.9|        3.0|         1.4|        0.2| setosa|[4.9,3.0,1.4,0.2]|\n",
      "|         4.7|        3.2|         1.3|        0.2| setosa|[4.7,3.2,1.3,0.2]|\n",
      "|         4.6|        3.1|         1.5|        0.2| setosa|[4.6,3.1,1.5,0.2]|\n",
      "|         5.0|        3.6|         1.4|        0.2| setosa|[5.0,3.6,1.4,0.2]|\n",
      "|         5.4|        3.9|         1.7|        0.4| setosa|[5.4,3.9,1.7,0.4]|\n",
      "|         4.6|        3.4|         1.4|        0.3| setosa|[4.6,3.4,1.4,0.3]|\n",
      "|         5.0|        3.4|         1.5|        0.2| setosa|[5.0,3.4,1.5,0.2]|\n",
      "|         4.4|        2.9|         1.4|        0.2| setosa|[4.4,2.9,1.4,0.2]|\n",
      "|         4.9|        3.1|         1.5|        0.1| setosa|[4.9,3.1,1.5,0.1]|\n",
      "|         5.4|        3.7|         1.5|        0.2| setosa|[5.4,3.7,1.5,0.2]|\n",
      "|         4.8|        3.4|         1.6|        0.2| setosa|[4.8,3.4,1.6,0.2]|\n",
      "|         4.8|        3.0|         1.4|        0.1| setosa|[4.8,3.0,1.4,0.1]|\n",
      "|         4.3|        3.0|         1.1|        0.1| setosa|[4.3,3.0,1.1,0.1]|\n",
      "|         5.8|        4.0|         1.2|        0.2| setosa|[5.8,4.0,1.2,0.2]|\n",
      "|         5.7|        4.4|         1.5|        0.4| setosa|[5.7,4.4,1.5,0.4]|\n",
      "|         5.4|        3.9|         1.3|        0.4| setosa|[5.4,3.9,1.3,0.4]|\n",
      "|         5.1|        3.5|         1.4|        0.3| setosa|[5.1,3.5,1.4,0.3]|\n",
      "|         5.7|        3.8|         1.7|        0.3| setosa|[5.7,3.8,1.7,0.3]|\n",
      "|         5.1|        3.8|         1.5|        0.3| setosa|[5.1,3.8,1.5,0.3]|\n",
      "+------------+-----------+------------+-----------+-------+-----------------+\n",
      "only showing top 20 rows\n",
      "\n"
     ]
    }
   ],
   "source": [
    "### KMeans\n",
    "\n",
    "assembler = VectorAssembler(inputCols=['sepal_length','sepal_width','petal_length','petal_width'],outputCol='features')\n",
    "data = assembler.transform(df)\n",
    "data.show()"
   ]
  },
  {
   "cell_type": "code",
   "execution_count": 15,
   "id": "c2c79dea-4d01-49ca-8c56-a7ade7bddcd2",
   "metadata": {},
   "outputs": [
    {
     "name": "stderr",
     "output_type": "stream",
     "text": [
      "                                                                                \r"
     ]
    },
    {
     "data": {
      "image/png": "[encoded data removed]",
      "text/plain": [
       "<Figure size 640x480 with 1 Axes>"
      ]
     },
     "metadata": {},
     "output_type": "display_data"
    }
   ],
   "source": [
    "from pyspark.ml.clustering import KMeans\n",
    "from pyspark.ml.evaluation import ClusteringEvaluator\n",
    "\n",
    "x=[]\n",
    "for k in range(2,11):\n",
    "    kmeans = KMeans().setK(k).setSeed(1)\n",
    "    model = kmeans.fit(data)\n",
    "    \n",
    "    predictions = model.transform(data)\n",
    "    \n",
    "    evaluator = ClusteringEvaluator()\n",
    "    wssse = evaluator.evaluate(predictions)\n",
    "    x.append(wssse)\n",
    "\n",
    "import matplotlib.pyplot as plt\n",
    "plt.plot(range(2, 11), x)\n",
    "plt.xlabel('Number of clusters (k)')\n",
    "plt.ylabel('Within Set Sum of Squared Errors (WSSSE)')\n",
    "plt.title('Elbow Method')\n",
    "plt.show()\n",
    "\n"
   ]
  },
  {
   "cell_type": "code",
   "execution_count": null,
   "id": "c2f101b3-1420-43a2-9dbf-4336e7f63fd2",
   "metadata": {},
   "outputs": [],
   "source": [
    "kmeans = KMeans().setK(7).setSeed(1)"
   ]
  }
 ],
 "metadata": {
  "kernelspec": {
   "display_name": "Python 3 (ipykernel)",
   "language": "python",
   "name": "python3"
  },
  "language_info": {
   "codemirror_mode": {
    "name": "ipython",
    "version": 3
   },
   "file_extension": ".py",
   "mimetype": "text/x-python",
   "name": "python",
   "nbconvert_exporter": "python",
   "pygments_lexer": "ipython3",
   "version": "3.10.12"
  }
 },
 "nbformat": 4,
 "nbformat_minor": 5
}
