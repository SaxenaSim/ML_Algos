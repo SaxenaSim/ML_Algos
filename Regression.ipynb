{
 "cells": [
  {
   "cell_type": "code",
   "execution_count": 1,
   "id": "c9e4eb63-44fe-4470-86a6-131ebabf4c13",
   "metadata": {},
   "outputs": [],
   "source": [
    "import pyspark"
   ]
  },
  {
   "cell_type": "code",
   "execution_count": 2,
   "id": "9e93c9c9-2de8-44db-b626-f925acf62001",
   "metadata": {},
   "outputs": [],
   "source": [
    "from pyspark.sql import SparkSession"
   ]
  },
  {
   "cell_type": "code",
   "execution_count": 3,
   "id": "3e6e5229-c131-498c-a0d6-30f7f441c651",
   "metadata": {},
   "outputs": [
    {
     "name": "stderr",
     "output_type": "stream",
     "text": [
      "24/04/18 20:48:32 WARN Utils: Your hostname, PF0P0YDX resolves to a loopback address: 127.0.1.1; using 192.168.1.23 instead (on interface wlp5s0)\n",
      "24/04/18 20:48:32 WARN Utils: Set SPARK_LOCAL_IP if you need to bind to another address\n",
      "Setting default log level to \"WARN\".\n",
      "To adjust logging level use sc.setLogLevel(newLevel). For SparkR, use setLogLevel(newLevel).\n",
      "24/04/18 20:48:35 WARN NativeCodeLoader: Unable to load native-hadoop library for your platform... using builtin-java classes where applicable\n",
      "24/04/18 20:48:39 WARN Utils: Service 'SparkUI' could not bind on port 4040. Attempting port 4041.\n"
     ]
    }
   ],
   "source": [
    "spark = SparkSession.builder.appName('Regression Algos').getOrCreate()"
   ]
  },
  {
   "cell_type": "code",
   "execution_count": 4,
   "id": "230d961c-b1e8-4fd9-9958-6c64571e292e",
   "metadata": {},
   "outputs": [
    {
     "name": "stderr",
     "output_type": "stream",
     "text": [
      "                                                                                \r"
     ]
    }
   ],
   "source": [
    "df = spark.read.csv('file:///home/user1/Desktop/Algos Hands-on/tips.csv',header='True',inferSchema='True')"
   ]
  },
  {
   "cell_type": "code",
   "execution_count": 5,
   "id": "59319e35-ef29-4470-ae36-5c51a75bf00d",
   "metadata": {},
   "outputs": [],
   "source": [
    "df2 = spark.read.csv('file:///home/user1/Desktop/Algos Hands-on/heart.csv',header='True',inferSchema='True')"
   ]
  },
  {
   "cell_type": "code",
   "execution_count": 7,
   "id": "5a078e3c-8cad-4f9e-8444-eeeb2ac3a76e",
   "metadata": {},
   "outputs": [
    {
     "name": "stdout",
     "output_type": "stream",
     "text": [
      "+----------+----+------+------+---+------+----+\n",
      "|total_bill| tip|   sex|smoker|day|  time|size|\n",
      "+----------+----+------+------+---+------+----+\n",
      "|     16.99|1.01|Female|    No|Sun|Dinner|   2|\n",
      "|     10.34|1.66|  Male|    No|Sun|Dinner|   3|\n",
      "|     21.01| 3.5|  Male|    No|Sun|Dinner|   3|\n",
      "|     23.68|3.31|  Male|    No|Sun|Dinner|   2|\n",
      "|     24.59|3.61|Female|    No|Sun|Dinner|   4|\n",
      "|     25.29|4.71|  Male|    No|Sun|Dinner|   4|\n",
      "|      8.77| 2.0|  Male|    No|Sun|Dinner|   2|\n",
      "|     26.88|3.12|  Male|    No|Sun|Dinner|   4|\n",
      "|     15.04|1.96|  Male|    No|Sun|Dinner|   2|\n",
      "|     14.78|3.23|  Male|    No|Sun|Dinner|   2|\n",
      "|     10.27|1.71|  Male|    No|Sun|Dinner|   2|\n",
      "|     35.26| 5.0|Female|    No|Sun|Dinner|   4|\n",
      "|     15.42|1.57|  Male|    No|Sun|Dinner|   2|\n",
      "|     18.43| 3.0|  Male|    No|Sun|Dinner|   4|\n",
      "|     14.83|3.02|Female|    No|Sun|Dinner|   2|\n",
      "|     21.58|3.92|  Male|    No|Sun|Dinner|   2|\n",
      "|     10.33|1.67|Female|    No|Sun|Dinner|   3|\n",
      "|     16.29|3.71|  Male|    No|Sun|Dinner|   3|\n",
      "|     16.97| 3.5|Female|    No|Sun|Dinner|   3|\n",
      "|     20.65|3.35|  Male|    No|Sat|Dinner|   3|\n",
      "+----------+----+------+------+---+------+----+\n",
      "only showing top 20 rows\n",
      "\n"
     ]
    }
   ],
   "source": [
    "### Linear Regression\n",
    "\n",
    "df.show()"
   ]
  },
  {
   "cell_type": "code",
   "execution_count": 8,
   "id": "e66f308f-a08b-4db3-bbdd-a1c522b9e058",
   "metadata": {},
   "outputs": [
    {
     "name": "stderr",
     "output_type": "stream",
     "text": [
      "                                                                                \r"
     ]
    },
    {
     "name": "stdout",
     "output_type": "stream",
     "text": [
      "+----------+----+------+------+---+------+----+-----------+--------------+-----------+------------+\n",
      "|total_bill| tip|   sex|smoker|day|  time|size|sex_numeric|smoker_numeric|day_numeric|time_numeric|\n",
      "+----------+----+------+------+---+------+----+-----------+--------------+-----------+------------+\n",
      "|     16.99|1.01|Female|    No|Sun|Dinner|   2|        1.0|           0.0|        1.0|         0.0|\n",
      "|     10.34|1.66|  Male|    No|Sun|Dinner|   3|        0.0|           0.0|        1.0|         0.0|\n",
      "|     21.01| 3.5|  Male|    No|Sun|Dinner|   3|        0.0|           0.0|        1.0|         0.0|\n",
      "|     23.68|3.31|  Male|    No|Sun|Dinner|   2|        0.0|           0.0|        1.0|         0.0|\n",
      "|     24.59|3.61|Female|    No|Sun|Dinner|   4|        1.0|           0.0|        1.0|         0.0|\n",
      "|     25.29|4.71|  Male|    No|Sun|Dinner|   4|        0.0|           0.0|        1.0|         0.0|\n",
      "|      8.77| 2.0|  Male|    No|Sun|Dinner|   2|        0.0|           0.0|        1.0|         0.0|\n",
      "|     26.88|3.12|  Male|    No|Sun|Dinner|   4|        0.0|           0.0|        1.0|         0.0|\n",
      "|     15.04|1.96|  Male|    No|Sun|Dinner|   2|        0.0|           0.0|        1.0|         0.0|\n",
      "|     14.78|3.23|  Male|    No|Sun|Dinner|   2|        0.0|           0.0|        1.0|         0.0|\n",
      "|     10.27|1.71|  Male|    No|Sun|Dinner|   2|        0.0|           0.0|        1.0|         0.0|\n",
      "|     35.26| 5.0|Female|    No|Sun|Dinner|   4|        1.0|           0.0|        1.0|         0.0|\n",
      "|     15.42|1.57|  Male|    No|Sun|Dinner|   2|        0.0|           0.0|        1.0|         0.0|\n",
      "|     18.43| 3.0|  Male|    No|Sun|Dinner|   4|        0.0|           0.0|        1.0|         0.0|\n",
      "|     14.83|3.02|Female|    No|Sun|Dinner|   2|        1.0|           0.0|        1.0|         0.0|\n",
      "|     21.58|3.92|  Male|    No|Sun|Dinner|   2|        0.0|           0.0|        1.0|         0.0|\n",
      "|     10.33|1.67|Female|    No|Sun|Dinner|   3|        1.0|           0.0|        1.0|         0.0|\n",
      "|     16.29|3.71|  Male|    No|Sun|Dinner|   3|        0.0|           0.0|        1.0|         0.0|\n",
      "|     16.97| 3.5|Female|    No|Sun|Dinner|   3|        1.0|           0.0|        1.0|         0.0|\n",
      "|     20.65|3.35|  Male|    No|Sat|Dinner|   3|        0.0|           0.0|        0.0|         0.0|\n",
      "+----------+----+------+------+---+------+----+-----------+--------------+-----------+------------+\n",
      "only showing top 20 rows\n",
      "\n"
     ]
    }
   ],
   "source": [
    "from pyspark.ml.feature import StringIndexer\n",
    "\n",
    "indexer = StringIndexer(inputCols=['sex','smoker','day','time'],outputCols=['sex_numeric','smoker_numeric','day_numeric','time_numeric'])\n",
    "indexed_df = indexer.fit(df).transform(df)\n",
    "indexed_df.show()"
   ]
  },
  {
   "cell_type": "code",
   "execution_count": 9,
   "id": "060e07df-f28a-4920-95b0-628e0ad7d1ae",
   "metadata": {},
   "outputs": [
    {
     "name": "stderr",
     "output_type": "stream",
     "text": [
      "                                                                                \r"
     ]
    },
    {
     "name": "stdout",
     "output_type": "stream",
     "text": [
      "+----------+----+------+------+---+------+----+-----------+--------------+-----------+------------+--------------------+\n",
      "|total_bill| tip|   sex|smoker|day|  time|size|sex_numeric|smoker_numeric|day_numeric|time_numeric|            features|\n",
      "+----------+----+------+------+---+------+----+-----------+--------------+-----------+------------+--------------------+\n",
      "|     16.99|1.01|Female|    No|Sun|Dinner|   2|        1.0|           0.0|        1.0|         0.0|[1.01,2.0,1.0,0.0...|\n",
      "|     10.34|1.66|  Male|    No|Sun|Dinner|   3|        0.0|           0.0|        1.0|         0.0|[1.66,3.0,0.0,0.0...|\n",
      "|     21.01| 3.5|  Male|    No|Sun|Dinner|   3|        0.0|           0.0|        1.0|         0.0|[3.5,3.0,0.0,0.0,...|\n",
      "|     23.68|3.31|  Male|    No|Sun|Dinner|   2|        0.0|           0.0|        1.0|         0.0|[3.31,2.0,0.0,0.0...|\n",
      "|     24.59|3.61|Female|    No|Sun|Dinner|   4|        1.0|           0.0|        1.0|         0.0|[3.61,4.0,1.0,0.0...|\n",
      "|     25.29|4.71|  Male|    No|Sun|Dinner|   4|        0.0|           0.0|        1.0|         0.0|[4.71,4.0,0.0,0.0...|\n",
      "|      8.77| 2.0|  Male|    No|Sun|Dinner|   2|        0.0|           0.0|        1.0|         0.0|[2.0,2.0,0.0,0.0,...|\n",
      "|     26.88|3.12|  Male|    No|Sun|Dinner|   4|        0.0|           0.0|        1.0|         0.0|[3.12,4.0,0.0,0.0...|\n",
      "|     15.04|1.96|  Male|    No|Sun|Dinner|   2|        0.0|           0.0|        1.0|         0.0|[1.96,2.0,0.0,0.0...|\n",
      "|     14.78|3.23|  Male|    No|Sun|Dinner|   2|        0.0|           0.0|        1.0|         0.0|[3.23,2.0,0.0,0.0...|\n",
      "|     10.27|1.71|  Male|    No|Sun|Dinner|   2|        0.0|           0.0|        1.0|         0.0|[1.71,2.0,0.0,0.0...|\n",
      "|     35.26| 5.0|Female|    No|Sun|Dinner|   4|        1.0|           0.0|        1.0|         0.0|[5.0,4.0,1.0,0.0,...|\n",
      "|     15.42|1.57|  Male|    No|Sun|Dinner|   2|        0.0|           0.0|        1.0|         0.0|[1.57,2.0,0.0,0.0...|\n",
      "|     18.43| 3.0|  Male|    No|Sun|Dinner|   4|        0.0|           0.0|        1.0|         0.0|[3.0,4.0,0.0,0.0,...|\n",
      "|     14.83|3.02|Female|    No|Sun|Dinner|   2|        1.0|           0.0|        1.0|         0.0|[3.02,2.0,1.0,0.0...|\n",
      "|     21.58|3.92|  Male|    No|Sun|Dinner|   2|        0.0|           0.0|        1.0|         0.0|[3.92,2.0,0.0,0.0...|\n",
      "|     10.33|1.67|Female|    No|Sun|Dinner|   3|        1.0|           0.0|        1.0|         0.0|[1.67,3.0,1.0,0.0...|\n",
      "|     16.29|3.71|  Male|    No|Sun|Dinner|   3|        0.0|           0.0|        1.0|         0.0|[3.71,3.0,0.0,0.0...|\n",
      "|     16.97| 3.5|Female|    No|Sun|Dinner|   3|        1.0|           0.0|        1.0|         0.0|[3.5,3.0,1.0,0.0,...|\n",
      "|     20.65|3.35|  Male|    No|Sat|Dinner|   3|        0.0|           0.0|        0.0|         0.0|(6,[0,1],[3.35,3.0])|\n",
      "+----------+----+------+------+---+------+----+-----------+--------------+-----------+------------+--------------------+\n",
      "only showing top 20 rows\n",
      "\n"
     ]
    }
   ],
   "source": [
    "from pyspark.ml.feature import VectorAssembler\n",
    "\n",
    "assembler = VectorAssembler(inputCols=['tip','size','sex_numeric','smoker_numeric','day_numeric','time_numeric'],outputCol='features')\n",
    "vector_df = assembler.transform(indexed_df)\n",
    "vector_df.show()"
   ]
  },
  {
   "cell_type": "code",
   "execution_count": 10,
   "id": "4683e902-8d26-4e1b-87c1-b8137e51fdf9",
   "metadata": {},
   "outputs": [
    {
     "name": "stderr",
     "output_type": "stream",
     "text": [
      "24/04/18 20:49:36 WARN Instrumentation: [790ac6cc] regParam is zero, which might cause numerical instability and overfitting.\n",
      "24/04/18 20:49:38 WARN InstanceBuilder: Failed to load implementation from:dev.ludovic.netlib.blas.JNIBLAS\n",
      "24/04/18 20:49:38 WARN InstanceBuilder: Failed to load implementation from:dev.ludovic.netlib.lapack.JNILAPACK\n"
     ]
    },
    {
     "name": "stdout",
     "output_type": "stream",
     "text": [
      "5.688636441818585\n"
     ]
    },
    {
     "name": "stderr",
     "output_type": "stream",
     "text": [
      "                                                                                \r"
     ]
    }
   ],
   "source": [
    "from pyspark.ml.regression import LinearRegression\n",
    "from pyspark.ml.evaluation import RegressionEvaluator\n",
    "\n",
    "train_data , test_data = vector_df.randomSplit([0.7,0.3])\n",
    "lg = LinearRegression(featuresCol='features',labelCol='total_bill')\n",
    "regressor = lg.fit(train_data)\n",
    "predictions = regressor.transform(test_data)\n",
    "evaluator = RegressionEvaluator(predictionCol=\"prediction\", labelCol=\"total_bill\", metricName=\"rmse\")\n",
    "rmse = evaluator.evaluate(predictions)\n",
    "print(rmse)"
   ]
  },
  {
   "cell_type": "code",
   "execution_count": 11,
   "id": "1d7f05cb-75bf-419e-95eb-751245fc2243",
   "metadata": {},
   "outputs": [
    {
     "name": "stdout",
     "output_type": "stream",
     "text": [
      "+----------+------------------+\n",
      "|total_bill|        prediction|\n",
      "+----------+------------------+\n",
      "|      7.51| 13.73645822998812|\n",
      "|      8.52|12.277642321947535|\n",
      "|      8.58|11.485628163078381|\n",
      "|      9.55|14.245951102640147|\n",
      "|       9.6|  21.3870798660935|\n",
      "|      9.94| 14.19846863285899|\n",
      "|     10.27|14.619280914024543|\n",
      "|     10.33|16.520781139640786|\n",
      "|     10.34| 17.85538071038733|\n",
      "|     10.34| 15.44251007908721|\n",
      "|     10.63|16.132327593188684|\n",
      "|     11.17| 10.97109690327869|\n",
      "|     11.24| 16.82168166614805|\n",
      "|     11.59|16.092273712127756|\n",
      "|     11.61|19.688456605714634|\n",
      "|     11.87|11.335800880288836|\n",
      "|     12.26|12.373804507163868|\n",
      "|     12.46|13.317987435120976|\n",
      "|     12.54|16.835558928163124|\n",
      "|     12.66|16.835558928163124|\n",
      "+----------+------------------+\n",
      "only showing top 20 rows\n",
      "\n"
     ]
    }
   ],
   "source": [
    "predictions.select('total_bill','prediction').show()"
   ]
  },
  {
   "cell_type": "code",
   "execution_count": 12,
   "id": "491e37d3-ea39-4166-b78a-c431a6648bb6",
   "metadata": {},
   "outputs": [
    {
     "data": {
      "text/plain": [
       "74"
      ]
     },
     "execution_count": 12,
     "metadata": {},
     "output_type": "execute_result"
    }
   ],
   "source": [
    "predictions.count()"
   ]
  },
  {
   "cell_type": "code",
   "execution_count": 13,
   "id": "362f585b-b5e7-43ca-b89b-893b02a142e7",
   "metadata": {},
   "outputs": [
    {
     "name": "stdout",
     "output_type": "stream",
     "text": [
      "+---+------+-------------+---------+-----------+---------+----------+-----+--------------+-------+--------+------------+\n",
      "|Age|Gender|ChestPainType|RestingBP|Cholesterol|FastingBS|RestingECG|MaxHR|ExerciseAngina|Oldpeak|ST_Slope|HeartDisease|\n",
      "+---+------+-------------+---------+-----------+---------+----------+-----+--------------+-------+--------+------------+\n",
      "| 40|     M|          ATA|      140|        289|        0|    Normal|  172|             N|    0.0|      Up|           0|\n",
      "| 49|     F|          NAP|      160|        180|        0|    Normal|  156|             N|    1.0|    Flat|           1|\n",
      "| 37|     M|          ATA|      130|        283|        0|        ST|   98|             N|    0.0|      Up|           0|\n",
      "| 48|     F|          ASY|      138|        214|        0|    Normal|  108|             Y|    1.5|    Flat|           1|\n",
      "| 54|     M|          NAP|      150|        195|        0|    Normal|  122|             N|    0.0|      Up|           0|\n",
      "| 39|     M|          NAP|      120|        339|        0|    Normal|  170|             N|    0.0|      Up|           0|\n",
      "| 45|     F|          ATA|      130|        237|        0|    Normal|  170|             N|    0.0|      Up|           0|\n",
      "| 54|     M|          ATA|      110|        208|        0|    Normal|  142|             N|    0.0|      Up|           0|\n",
      "| 37|     M|          ASY|      140|        207|        0|    Normal|  130|             Y|    1.5|    Flat|           1|\n",
      "| 48|     F|          ATA|      120|        284|        0|    Normal|  120|             N|    0.0|      Up|           0|\n",
      "| 37|     F|          NAP|      130|        211|        0|    Normal|  142|             N|    0.0|      Up|           0|\n",
      "| 58|     M|          ATA|      136|        164|        0|        ST|   99|             Y|    2.0|    Flat|           1|\n",
      "| 39|     M|          ATA|      120|        204|        0|    Normal|  145|             N|    0.0|      Up|           0|\n",
      "| 49|     M|          ASY|      140|        234|        0|    Normal|  140|             Y|    1.0|    Flat|           1|\n",
      "| 42|     F|          NAP|      115|        211|        0|        ST|  137|             N|    0.0|      Up|           0|\n",
      "| 54|     F|          ATA|      120|        273|        0|    Normal|  150|             N|    1.5|    Flat|           0|\n",
      "| 38|     M|          ASY|      110|        196|        0|    Normal|  166|             N|    0.0|    Flat|           1|\n",
      "| 43|     F|          ATA|      120|        201|        0|    Normal|  165|             N|    0.0|      Up|           0|\n",
      "| 60|     M|          ASY|      100|        248|        0|    Normal|  125|             N|    1.0|    Flat|           1|\n",
      "| 36|     M|          ATA|      120|        267|        0|    Normal|  160|             N|    3.0|    Flat|           1|\n",
      "+---+------+-------------+---------+-----------+---------+----------+-----+--------------+-------+--------+------------+\n",
      "only showing top 20 rows\n",
      "\n"
     ]
    }
   ],
   "source": [
    "### Logistic Regression\n",
    "\n",
    "df2.show()"
   ]
  },
  {
   "cell_type": "code",
   "execution_count": 14,
   "id": "619817a2-8ca8-471d-b29b-df2910703b06",
   "metadata": {},
   "outputs": [
    {
     "name": "stdout",
     "output_type": "stream",
     "text": [
      "root\n",
      " |-- Age: integer (nullable = true)\n",
      " |-- Gender: string (nullable = true)\n",
      " |-- ChestPainType: string (nullable = true)\n",
      " |-- RestingBP: integer (nullable = true)\n",
      " |-- Cholesterol: integer (nullable = true)\n",
      " |-- FastingBS: integer (nullable = true)\n",
      " |-- RestingECG: string (nullable = true)\n",
      " |-- MaxHR: integer (nullable = true)\n",
      " |-- ExerciseAngina: string (nullable = true)\n",
      " |-- Oldpeak: double (nullable = true)\n",
      " |-- ST_Slope: string (nullable = true)\n",
      " |-- HeartDisease: integer (nullable = true)\n",
      "\n"
     ]
    }
   ],
   "source": [
    "df2.printSchema()"
   ]
  },
  {
   "cell_type": "code",
   "execution_count": 15,
   "id": "d8ffc48e-5b44-4c8a-b67c-df147070c10f",
   "metadata": {},
   "outputs": [
    {
     "name": "stdout",
     "output_type": "stream",
     "text": [
      "+---+------+-------------+---------+-----------+---------+----------+-----+--------------+-------+--------+------------+--------------+---+----+---+----+\n",
      "|Age|Gender|ChestPainType|RestingBP|Cholesterol|FastingBS|RestingECG|MaxHR|ExerciseAngina|Oldpeak|ST_Slope|HeartDisease|Gender_numeric|CPT|RECG| EA|ST_S|\n",
      "+---+------+-------------+---------+-----------+---------+----------+-----+--------------+-------+--------+------------+--------------+---+----+---+----+\n",
      "| 40|     M|          ATA|      140|        289|        0|    Normal|  172|             N|    0.0|      Up|           0|           0.0|2.0| 0.0|0.0| 1.0|\n",
      "| 49|     F|          NAP|      160|        180|        0|    Normal|  156|             N|    1.0|    Flat|           1|           1.0|1.0| 0.0|0.0| 0.0|\n",
      "| 37|     M|          ATA|      130|        283|        0|        ST|   98|             N|    0.0|      Up|           0|           0.0|2.0| 2.0|0.0| 1.0|\n",
      "| 48|     F|          ASY|      138|        214|        0|    Normal|  108|             Y|    1.5|    Flat|           1|           1.0|0.0| 0.0|1.0| 0.0|\n",
      "| 54|     M|          NAP|      150|        195|        0|    Normal|  122|             N|    0.0|      Up|           0|           0.0|1.0| 0.0|0.0| 1.0|\n",
      "| 39|     M|          NAP|      120|        339|        0|    Normal|  170|             N|    0.0|      Up|           0|           0.0|1.0| 0.0|0.0| 1.0|\n",
      "| 45|     F|          ATA|      130|        237|        0|    Normal|  170|             N|    0.0|      Up|           0|           1.0|2.0| 0.0|0.0| 1.0|\n",
      "| 54|     M|          ATA|      110|        208|        0|    Normal|  142|             N|    0.0|      Up|           0|           0.0|2.0| 0.0|0.0| 1.0|\n",
      "| 37|     M|          ASY|      140|        207|        0|    Normal|  130|             Y|    1.5|    Flat|           1|           0.0|0.0| 0.0|1.0| 0.0|\n",
      "| 48|     F|          ATA|      120|        284|        0|    Normal|  120|             N|    0.0|      Up|           0|           1.0|2.0| 0.0|0.0| 1.0|\n",
      "| 37|     F|          NAP|      130|        211|        0|    Normal|  142|             N|    0.0|      Up|           0|           1.0|1.0| 0.0|0.0| 1.0|\n",
      "| 58|     M|          ATA|      136|        164|        0|        ST|   99|             Y|    2.0|    Flat|           1|           0.0|2.0| 2.0|1.0| 0.0|\n",
      "| 39|     M|          ATA|      120|        204|        0|    Normal|  145|             N|    0.0|      Up|           0|           0.0|2.0| 0.0|0.0| 1.0|\n",
      "| 49|     M|          ASY|      140|        234|        0|    Normal|  140|             Y|    1.0|    Flat|           1|           0.0|0.0| 0.0|1.0| 0.0|\n",
      "| 42|     F|          NAP|      115|        211|        0|        ST|  137|             N|    0.0|      Up|           0|           1.0|1.0| 2.0|0.0| 1.0|\n",
      "| 54|     F|          ATA|      120|        273|        0|    Normal|  150|             N|    1.5|    Flat|           0|           1.0|2.0| 0.0|0.0| 0.0|\n",
      "| 38|     M|          ASY|      110|        196|        0|    Normal|  166|             N|    0.0|    Flat|           1|           0.0|0.0| 0.0|0.0| 0.0|\n",
      "| 43|     F|          ATA|      120|        201|        0|    Normal|  165|             N|    0.0|      Up|           0|           1.0|2.0| 0.0|0.0| 1.0|\n",
      "| 60|     M|          ASY|      100|        248|        0|    Normal|  125|             N|    1.0|    Flat|           1|           0.0|0.0| 0.0|0.0| 0.0|\n",
      "| 36|     M|          ATA|      120|        267|        0|    Normal|  160|             N|    3.0|    Flat|           1|           0.0|2.0| 0.0|0.0| 0.0|\n",
      "+---+------+-------------+---------+-----------+---------+----------+-----+--------------+-------+--------+------------+--------------+---+----+---+----+\n",
      "only showing top 20 rows\n",
      "\n"
     ]
    }
   ],
   "source": [
    "indexer = StringIndexer(inputCols=['Gender','ChestPainType','RestingECG','ExerciseAngina','ST_Slope'],outputCols=['Gender_numeric','CPT','RECG','EA','ST_S'])\n",
    "indexed_df = indexer.fit(df2).transform(df2)\n",
    "indexed_df.show()"
   ]
  },
  {
   "cell_type": "code",
   "execution_count": 16,
   "id": "5ba590df-07fd-4cac-9815-4968c654a242",
   "metadata": {},
   "outputs": [
    {
     "data": {
      "text/plain": [
       "['Age',\n",
       " 'Gender',\n",
       " 'ChestPainType',\n",
       " 'RestingBP',\n",
       " 'Cholesterol',\n",
       " 'FastingBS',\n",
       " 'RestingECG',\n",
       " 'MaxHR',\n",
       " 'ExerciseAngina',\n",
       " 'Oldpeak',\n",
       " 'ST_Slope',\n",
       " 'HeartDisease',\n",
       " 'Gender_numeric',\n",
       " 'CPT',\n",
       " 'RECG',\n",
       " 'EA',\n",
       " 'ST_S']"
      ]
     },
     "execution_count": 16,
     "metadata": {},
     "output_type": "execute_result"
    }
   ],
   "source": [
    "indexed_df.columns"
   ]
  },
  {
   "cell_type": "code",
   "execution_count": 17,
   "id": "88709eeb-f8a2-4440-b352-f0951d30da53",
   "metadata": {},
   "outputs": [
    {
     "name": "stdout",
     "output_type": "stream",
     "text": [
      "+---+------+-------------+---------+-----------+---------+----------+-----+--------------+-------+--------+------------+--------------+---+----+---+----+--------------------+\n",
      "|Age|Gender|ChestPainType|RestingBP|Cholesterol|FastingBS|RestingECG|MaxHR|ExerciseAngina|Oldpeak|ST_Slope|HeartDisease|Gender_numeric|CPT|RECG| EA|ST_S|            features|\n",
      "+---+------+-------------+---------+-----------+---------+----------+-----+--------------+-------+--------+------------+--------------+---+----+---+----+--------------------+\n",
      "| 40|     M|          ATA|      140|        289|        0|    Normal|  172|             N|    0.0|      Up|           0|           0.0|2.0| 0.0|0.0| 1.0|(11,[0,2,3,4,7,10...|\n",
      "| 49|     F|          NAP|      160|        180|        0|    Normal|  156|             N|    1.0|    Flat|           1|           1.0|1.0| 0.0|0.0| 0.0|[49.0,1.0,1.0,160...|\n",
      "| 37|     M|          ATA|      130|        283|        0|        ST|   98|             N|    0.0|      Up|           0|           0.0|2.0| 2.0|0.0| 1.0|[37.0,0.0,2.0,130...|\n",
      "| 48|     F|          ASY|      138|        214|        0|    Normal|  108|             Y|    1.5|    Flat|           1|           1.0|0.0| 0.0|1.0| 0.0|[48.0,1.0,0.0,138...|\n",
      "| 54|     M|          NAP|      150|        195|        0|    Normal|  122|             N|    0.0|      Up|           0|           0.0|1.0| 0.0|0.0| 1.0|(11,[0,2,3,4,7,10...|\n",
      "| 39|     M|          NAP|      120|        339|        0|    Normal|  170|             N|    0.0|      Up|           0|           0.0|1.0| 0.0|0.0| 1.0|(11,[0,2,3,4,7,10...|\n",
      "| 45|     F|          ATA|      130|        237|        0|    Normal|  170|             N|    0.0|      Up|           0|           1.0|2.0| 0.0|0.0| 1.0|[45.0,1.0,2.0,130...|\n",
      "| 54|     M|          ATA|      110|        208|        0|    Normal|  142|             N|    0.0|      Up|           0|           0.0|2.0| 0.0|0.0| 1.0|(11,[0,2,3,4,7,10...|\n",
      "| 37|     M|          ASY|      140|        207|        0|    Normal|  130|             Y|    1.5|    Flat|           1|           0.0|0.0| 0.0|1.0| 0.0|(11,[0,3,4,7,8,9]...|\n",
      "| 48|     F|          ATA|      120|        284|        0|    Normal|  120|             N|    0.0|      Up|           0|           1.0|2.0| 0.0|0.0| 1.0|[48.0,1.0,2.0,120...|\n",
      "| 37|     F|          NAP|      130|        211|        0|    Normal|  142|             N|    0.0|      Up|           0|           1.0|1.0| 0.0|0.0| 1.0|[37.0,1.0,1.0,130...|\n",
      "| 58|     M|          ATA|      136|        164|        0|        ST|   99|             Y|    2.0|    Flat|           1|           0.0|2.0| 2.0|1.0| 0.0|[58.0,0.0,2.0,136...|\n",
      "| 39|     M|          ATA|      120|        204|        0|    Normal|  145|             N|    0.0|      Up|           0|           0.0|2.0| 0.0|0.0| 1.0|(11,[0,2,3,4,7,10...|\n",
      "| 49|     M|          ASY|      140|        234|        0|    Normal|  140|             Y|    1.0|    Flat|           1|           0.0|0.0| 0.0|1.0| 0.0|(11,[0,3,4,7,8,9]...|\n",
      "| 42|     F|          NAP|      115|        211|        0|        ST|  137|             N|    0.0|      Up|           0|           1.0|1.0| 2.0|0.0| 1.0|[42.0,1.0,1.0,115...|\n",
      "| 54|     F|          ATA|      120|        273|        0|    Normal|  150|             N|    1.5|    Flat|           0|           1.0|2.0| 0.0|0.0| 0.0|[54.0,1.0,2.0,120...|\n",
      "| 38|     M|          ASY|      110|        196|        0|    Normal|  166|             N|    0.0|    Flat|           1|           0.0|0.0| 0.0|0.0| 0.0|(11,[0,3,4,7],[38...|\n",
      "| 43|     F|          ATA|      120|        201|        0|    Normal|  165|             N|    0.0|      Up|           0|           1.0|2.0| 0.0|0.0| 1.0|[43.0,1.0,2.0,120...|\n",
      "| 60|     M|          ASY|      100|        248|        0|    Normal|  125|             N|    1.0|    Flat|           1|           0.0|0.0| 0.0|0.0| 0.0|(11,[0,3,4,7,9],[...|\n",
      "| 36|     M|          ATA|      120|        267|        0|    Normal|  160|             N|    3.0|    Flat|           1|           0.0|2.0| 0.0|0.0| 0.0|(11,[0,2,3,4,7,9]...|\n",
      "+---+------+-------------+---------+-----------+---------+----------+-----+--------------+-------+--------+------------+--------------+---+----+---+----+--------------------+\n",
      "only showing top 20 rows\n",
      "\n"
     ]
    }
   ],
   "source": [
    "assembler = VectorAssembler(inputCols=['Age','Gender_numeric','CPT','RestingBP','Cholesterol','FastingBS','RECG','MaxHR','EA','Oldpeak','ST_S'],outputCol='features')\n",
    "vector_df = assembler.transform(indexed_df)\n",
    "vector_df.show()"
   ]
  },
  {
   "cell_type": "code",
   "execution_count": 18,
   "id": "0f4b3dae-949d-484d-89d7-a2c0bfed0d29",
   "metadata": {},
   "outputs": [
    {
     "name": "stdout",
     "output_type": "stream",
     "text": [
      "+----------------------------------------------------+------------+\n",
      "|features                                            |HeartDisease|\n",
      "+----------------------------------------------------+------------+\n",
      "|(11,[0,2,3,4,7,10],[40.0,2.0,140.0,289.0,172.0,1.0])|0           |\n",
      "|[49.0,1.0,1.0,160.0,180.0,0.0,0.0,156.0,0.0,1.0,0.0]|1           |\n",
      "|[37.0,0.0,2.0,130.0,283.0,0.0,2.0,98.0,0.0,0.0,1.0] |0           |\n",
      "|[48.0,1.0,0.0,138.0,214.0,0.0,0.0,108.0,1.0,1.5,0.0]|1           |\n",
      "|(11,[0,2,3,4,7,10],[54.0,1.0,150.0,195.0,122.0,1.0])|0           |\n",
      "|(11,[0,2,3,4,7,10],[39.0,1.0,120.0,339.0,170.0,1.0])|0           |\n",
      "|[45.0,1.0,2.0,130.0,237.0,0.0,0.0,170.0,0.0,0.0,1.0]|0           |\n",
      "|(11,[0,2,3,4,7,10],[54.0,2.0,110.0,208.0,142.0,1.0])|0           |\n",
      "|(11,[0,3,4,7,8,9],[37.0,140.0,207.0,130.0,1.0,1.5]) |1           |\n",
      "|[48.0,1.0,2.0,120.0,284.0,0.0,0.0,120.0,0.0,0.0,1.0]|0           |\n",
      "|[37.0,1.0,1.0,130.0,211.0,0.0,0.0,142.0,0.0,0.0,1.0]|0           |\n",
      "|[58.0,0.0,2.0,136.0,164.0,0.0,2.0,99.0,1.0,2.0,0.0] |1           |\n",
      "|(11,[0,2,3,4,7,10],[39.0,2.0,120.0,204.0,145.0,1.0])|0           |\n",
      "|(11,[0,3,4,7,8,9],[49.0,140.0,234.0,140.0,1.0,1.0]) |1           |\n",
      "|[42.0,1.0,1.0,115.0,211.0,0.0,2.0,137.0,0.0,0.0,1.0]|0           |\n",
      "|[54.0,1.0,2.0,120.0,273.0,0.0,0.0,150.0,0.0,1.5,0.0]|0           |\n",
      "|(11,[0,3,4,7],[38.0,110.0,196.0,166.0])             |1           |\n",
      "|[43.0,1.0,2.0,120.0,201.0,0.0,0.0,165.0,0.0,0.0,1.0]|0           |\n",
      "|(11,[0,3,4,7,9],[60.0,100.0,248.0,125.0,1.0])       |1           |\n",
      "|(11,[0,2,3,4,7,9],[36.0,2.0,120.0,267.0,160.0,3.0]) |1           |\n",
      "+----------------------------------------------------+------------+\n",
      "only showing top 20 rows\n",
      "\n"
     ]
    }
   ],
   "source": [
    "vector_df.select('features','HeartDisease').show(truncate=False)"
   ]
  },
  {
   "cell_type": "code",
   "execution_count": 19,
   "id": "70f3440c-4211-4045-88dc-2bcf54779841",
   "metadata": {},
   "outputs": [],
   "source": [
    "model_df = vector_df.select('features','HeartDisease')"
   ]
  },
  {
   "cell_type": "code",
   "execution_count": 20,
   "id": "b1f8fc10-e2ef-4cf1-ac42-376cb5de3d9a",
   "metadata": {},
   "outputs": [],
   "source": [
    "train_data , test_data = model_df.randomSplit([0.7,0.3])"
   ]
  },
  {
   "cell_type": "code",
   "execution_count": 21,
   "id": "08e325ee-99dd-4489-be01-c08d4212533a",
   "metadata": {},
   "outputs": [
    {
     "name": "stderr",
     "output_type": "stream",
     "text": [
      "                                                                                \r"
     ]
    }
   ],
   "source": [
    "from pyspark.ml.classification import LogisticRegression\n",
    "\n",
    "log_reg = LogisticRegression(labelCol='HeartDisease').fit(train_data)"
   ]
  },
  {
   "cell_type": "code",
   "execution_count": 22,
   "id": "df4792a9-96a8-4f58-8d46-4ef0c438ab8a",
   "metadata": {},
   "outputs": [],
   "source": [
    "training_results = log_reg.evaluate(train_data).predictions"
   ]
  },
  {
   "cell_type": "code",
   "execution_count": 23,
   "id": "3e300b24-d2a1-4a85-934a-d6d5c05fd913",
   "metadata": {},
   "outputs": [
    {
     "data": {
      "text/plain": [
       "668"
      ]
     },
     "execution_count": 23,
     "metadata": {},
     "output_type": "execute_result"
    }
   ],
   "source": [
    "training_results.count()"
   ]
  },
  {
   "cell_type": "code",
   "execution_count": 24,
   "id": "8c77e64d-066b-47a6-90bc-25ed7b8bc6e7",
   "metadata": {},
   "outputs": [
    {
     "name": "stdout",
     "output_type": "stream",
     "text": [
      "+--------------------+------------+--------------------+--------------------+----------+\n",
      "|            features|HeartDisease|       rawPrediction|         probability|prediction|\n",
      "+--------------------+------------+--------------------+--------------------+----------+\n",
      "|(11,[0,1,2,3,4,7]...|           0|[1.71510772068085...|[0.84749760606383...|       0.0|\n",
      "|(11,[0,1,2,3,4,7]...|           0|[1.94667771970879...|[0.87508392887810...|       0.0|\n",
      "|(11,[0,1,2,3,4,7]...|           0|[2.07966160337693...|[0.88891062151753...|       0.0|\n",
      "|(11,[0,1,2,3,4,7]...|           0|[2.74856024807007...|[0.93983198652506...|       0.0|\n",
      "|(11,[0,1,2,3,5,7]...|           1|[0.65423965253620...|[0.65796522169890...|       0.0|\n",
      "|(11,[0,1,3,4,7,8]...|           1|[-0.4905227129532...|[0.37977043757614...|       1.0|\n",
      "|(11,[0,1,3,4,7,9]...|           1|[0.00840509841966...|[0.50210126223450...|       0.0|\n",
      "|(11,[0,1,3,4,7,9]...|           0|[0.04475534729868...|[0.51118696955701...|       0.0|\n",
      "|(11,[0,1,3,4,7,9]...|           0|[-0.6289384156033...|[0.34775128779623...|       1.0|\n",
      "|(11,[0,1,3,4,7,10...|           0|[2.31729230952861...|[0.91029909062295...|       0.0|\n",
      "|(11,[0,1,3,4,7,10...|           0|[2.79322285273927...|[0.94230849924197...|       0.0|\n",
      "|(11,[0,1,3,4,7,10...|           0|[1.90185056868750...|[0.87010083015014...|       0.0|\n",
      "|(11,[0,1,3,4,7,10...|           0|[2.48464151263677...|[0.92305809465838...|       0.0|\n",
      "|(11,[0,1,3,5,7],[...|           1|[-2.3104900910386...|[0.09025789455629...|       1.0|\n",
      "|(11,[0,1,3,7],[38...|           1|[0.10288453829710...|[0.52569846989176...|       0.0|\n",
      "|(11,[0,2,3,4,6,7]...|           1|[2.05244675146046...|[0.88619461597344...|       0.0|\n",
      "|(11,[0,2,3,4,6,7]...|           1|[-0.1607462690528...|[0.45989974266593...|       1.0|\n",
      "|(11,[0,2,3,4,7],[...|           1|[1.95814830807166...|[0.87633241713769...|       0.0|\n",
      "|(11,[0,2,3,4,7],[...|           1|[1.31867803374837...|[0.78896168170670...|       0.0|\n",
      "|(11,[0,2,3,4,7],[...|           1|[0.85836144223583...|[0.70231819902514...|       0.0|\n",
      "+--------------------+------------+--------------------+--------------------+----------+\n",
      "only showing top 20 rows\n",
      "\n"
     ]
    },
    {
     "name": "stderr",
     "output_type": "stream",
     "text": [
      "                                                                                \r"
     ]
    }
   ],
   "source": [
    "training_results.show()"
   ]
  },
  {
   "cell_type": "code",
   "execution_count": 25,
   "id": "da179d35-1bff-4ee6-b7b4-52d5b5905b45",
   "metadata": {},
   "outputs": [],
   "source": [
    "results = log_reg.evaluate(test_data)"
   ]
  },
  {
   "cell_type": "code",
   "execution_count": 26,
   "id": "ba63e9d3-faf5-4e33-b3a5-beb6336c046b",
   "metadata": {},
   "outputs": [
    {
     "name": "stdout",
     "output_type": "stream",
     "text": [
      "+--------------------+------------+--------------------+--------------------+----------+\n",
      "|            features|HeartDisease|       rawPrediction|         probability|prediction|\n",
      "+--------------------+------------+--------------------+--------------------+----------+\n",
      "|(11,[0,1,3,4,7,8]...|           1|[-0.3257883573806...|[0.41926573215692...|       1.0|\n",
      "|(11,[0,1,3,4,7,9]...|           0|[-1.0117373277600...|[0.26663999059319...|       1.0|\n",
      "|(11,[0,1,3,4,7,10...|           0|[2.85337410070588...|[0.94549283250333...|       0.0|\n",
      "|(11,[0,1,3,5,7],[...|           1|[-1.9607157438686...|[0.12338960853573...|       1.0|\n",
      "|(11,[0,1,3,7,8,9]...|           1|[-2.3761307103545...|[0.08501105235719...|       1.0|\n",
      "|(11,[0,2,3,4,5,7]...|           1|[-1.4989771145768...|[0.18257813309874...|       1.0|\n",
      "|(11,[0,2,3,4,5,7]...|           1|[-1.7533380975920...|[0.14762666082861...|       1.0|\n",
      "|(11,[0,2,3,4,6,7]...|           0|[2.01639410171852...|[0.88250763646614...|       0.0|\n",
      "|(11,[0,2,3,4,7],[...|           0|[0.82923307754104...|[0.69619274368722...|       0.0|\n",
      "|(11,[0,2,3,4,7,9]...|           0|[0.71320221145384...|[0.67110834499512...|       0.0|\n",
      "|(11,[0,2,3,4,7,9]...|           0|[0.16603919315760...|[0.54141469512116...|       0.0|\n",
      "|(11,[0,2,3,4,7,9]...|           1|[1.06282453168607...|[0.74322994686614...|       0.0|\n",
      "|(11,[0,2,3,4,7,9]...|           1|[-0.1681628892151...|[0.45805806994865...|       1.0|\n",
      "|(11,[0,2,3,4,7,10...|           0|[1.91684963302700...|[0.87178671479750...|       0.0|\n",
      "|(11,[0,2,3,4,7,10...|           0|[2.81067523238505...|[0.94324997483592...|       0.0|\n",
      "|(11,[0,2,3,4,7,10...|           0|[2.11378701878563...|[0.89223599982175...|       0.0|\n",
      "|(11,[0,2,3,4,7,10...|           0|[1.82410347013856...|[0.86105778277626...|       0.0|\n",
      "|(11,[0,2,3,4,7,10...|           0|[2.46100274886272...|[0.92136234647216...|       0.0|\n",
      "|(11,[0,2,3,4,7,10...|           0|[2.44994322283551...|[0.92055729871264...|       0.0|\n",
      "|(11,[0,2,3,4,7,10...|           0|[2.51468367790531...|[0.92516481084381...|       0.0|\n",
      "+--------------------+------------+--------------------+--------------------+----------+\n",
      "only showing top 20 rows\n",
      "\n"
     ]
    }
   ],
   "source": [
    "results.predictions.show()"
   ]
  },
  {
   "cell_type": "code",
   "execution_count": 27,
   "id": "ab1c89f4-db4a-46b2-b5f6-410b36e96ad3",
   "metadata": {},
   "outputs": [
    {
     "data": {
      "text/plain": [
       "74"
      ]
     },
     "execution_count": 27,
     "metadata": {},
     "output_type": "execute_result"
    }
   ],
   "source": [
    "predictions.count()"
   ]
  },
  {
   "cell_type": "code",
   "execution_count": null,
   "id": "7b7539bd-573b-4d29-95dd-2617467c7159",
   "metadata": {},
   "outputs": [],
   "source": []
  }
 ],
 "metadata": {
  "kernelspec": {
   "display_name": "Python 3 (ipykernel)",
   "language": "python",
   "name": "python3"
  },
  "language_info": {
   "codemirror_mode": {
    "name": "ipython",
    "version": 3
   },
   "file_extension": ".py",
   "mimetype": "text/x-python",
   "name": "python",
   "nbconvert_exporter": "python",
   "pygments_lexer": "ipython3",
   "version": "3.10.12"
  }
 },
 "nbformat": 4,
 "nbformat_minor": 5
}
